{
 "cells": [
  {
   "cell_type": "code",
   "execution_count": 5,
   "metadata": {},
   "outputs": [],
   "source": [
    "import tensorflow as tf"
   ]
  },
  {
   "cell_type": "code",
   "execution_count": 6,
   "metadata": {},
   "outputs": [],
   "source": [
    "# setup path\n",
    "import sys\n",
    "sys.path.append('models/research/slim')"
   ]
  },
  {
   "cell_type": "code",
   "execution_count": 7,
   "metadata": {},
   "outputs": [],
   "source": [
    "from nets.mobilenet import mobilenet_v2"
   ]
  },
  {
   "cell_type": "code",
   "execution_count": 9,
   "metadata": {},
   "outputs": [],
   "source": [
    "file_input = tf.placeholder(tf.string, ())\n",
    "\n",
    "image = tf.image.decode_jpeg(tf.read_file(file_input))\n",
    "\n",
    "images = tf.expand_dims(image, 0)\n",
    "images = tf.cast(images, tf.float32) / 128.  - 1\n",
    "images.set_shape((None, None, None, 3))\n",
    "images = tf.image.resize_images(images, (224, 224))"
   ]
  },
  {
   "cell_type": "code",
   "execution_count": 10,
   "metadata": {},
   "outputs": [],
   "source": [
    "# Note: arg_scope is optional for inference.\n",
    "with tf.contrib.slim.arg_scope(mobilenet_v2.training_scope(is_training=True)):\n",
    "  logits, endpoints = mobilenet_v2.mobilenet(images)"
   ]
  },
  {
   "cell_type": "code",
   "execution_count": 13,
   "metadata": {},
   "outputs": [
    {
     "name": "stdout",
     "output_type": "stream",
     "text": [
      "Tensor(\"MobilenetV2/Conv/Relu6:0\", shape=(1, 112, 112, 32), dtype=float32)\n",
      "Tensor(\"MobilenetV2/expanded_conv/output:0\", shape=(1, 112, 112, 16), dtype=float32)\n",
      "Tensor(\"MobilenetV2/expanded_conv_1/output:0\", shape=(1, 56, 56, 24), dtype=float32)\n",
      "Tensor(\"MobilenetV2/expanded_conv_2/output:0\", shape=(1, 56, 56, 24), dtype=float32)\n",
      "Tensor(\"MobilenetV2/expanded_conv_3/output:0\", shape=(1, 28, 28, 32), dtype=float32)\n",
      "Tensor(\"MobilenetV2/expanded_conv_4/output:0\", shape=(1, 28, 28, 32), dtype=float32)\n",
      "Tensor(\"MobilenetV2/expanded_conv_5/output:0\", shape=(1, 28, 28, 32), dtype=float32)\n",
      "Tensor(\"MobilenetV2/expanded_conv_6/output:0\", shape=(1, 14, 14, 64), dtype=float32)\n",
      "Tensor(\"MobilenetV2/expanded_conv_7/output:0\", shape=(1, 14, 14, 64), dtype=float32)\n",
      "Tensor(\"MobilenetV2/expanded_conv_8/output:0\", shape=(1, 14, 14, 64), dtype=float32)\n",
      "Tensor(\"MobilenetV2/expanded_conv_9/output:0\", shape=(1, 14, 14, 64), dtype=float32)\n",
      "Tensor(\"MobilenetV2/expanded_conv_10/output:0\", shape=(1, 14, 14, 96), dtype=float32)\n",
      "Tensor(\"MobilenetV2/expanded_conv_11/output:0\", shape=(1, 14, 14, 96), dtype=float32)\n",
      "Tensor(\"MobilenetV2/expanded_conv_12/output:0\", shape=(1, 14, 14, 96), dtype=float32)\n",
      "Tensor(\"MobilenetV2/expanded_conv_13/output:0\", shape=(1, 7, 7, 160), dtype=float32)\n",
      "Tensor(\"MobilenetV2/expanded_conv_14/output:0\", shape=(1, 7, 7, 160), dtype=float32)\n",
      "Tensor(\"MobilenetV2/expanded_conv_15/output:0\", shape=(1, 7, 7, 160), dtype=float32)\n",
      "Tensor(\"MobilenetV2/expanded_conv_16/output:0\", shape=(1, 7, 7, 320), dtype=float32)\n",
      "Tensor(\"MobilenetV2/Conv_1/Relu6:0\", shape=(1, 7, 7, 1280), dtype=float32)\n",
      "Tensor(\"MobilenetV2/expanded_conv/depthwise_output:0\", shape=(1, 112, 112, 32), dtype=float32)\n",
      "Tensor(\"MobilenetV2/expanded_conv/output:0\", shape=(1, 112, 112, 16), dtype=float32)\n",
      "Tensor(\"MobilenetV2/expanded_conv_1/expansion_output:0\", shape=(1, 112, 112, 96), dtype=float32)\n",
      "Tensor(\"MobilenetV2/expanded_conv_1/depthwise_output:0\", shape=(1, 56, 56, 96), dtype=float32)\n",
      "Tensor(\"MobilenetV2/expanded_conv_1/output:0\", shape=(1, 56, 56, 24), dtype=float32)\n",
      "Tensor(\"MobilenetV2/expanded_conv_2/expansion_output:0\", shape=(1, 56, 56, 144), dtype=float32)\n",
      "Tensor(\"MobilenetV2/expanded_conv_2/depthwise_output:0\", shape=(1, 56, 56, 144), dtype=float32)\n",
      "Tensor(\"MobilenetV2/expanded_conv_2/output:0\", shape=(1, 56, 56, 24), dtype=float32)\n",
      "Tensor(\"MobilenetV2/expanded_conv_3/expansion_output:0\", shape=(1, 56, 56, 144), dtype=float32)\n",
      "Tensor(\"MobilenetV2/expanded_conv_3/depthwise_output:0\", shape=(1, 28, 28, 144), dtype=float32)\n",
      "Tensor(\"MobilenetV2/expanded_conv_3/output:0\", shape=(1, 28, 28, 32), dtype=float32)\n",
      "Tensor(\"MobilenetV2/expanded_conv_4/expansion_output:0\", shape=(1, 28, 28, 192), dtype=float32)\n",
      "Tensor(\"MobilenetV2/expanded_conv_4/depthwise_output:0\", shape=(1, 28, 28, 192), dtype=float32)\n",
      "Tensor(\"MobilenetV2/expanded_conv_4/output:0\", shape=(1, 28, 28, 32), dtype=float32)\n",
      "Tensor(\"MobilenetV2/expanded_conv_5/expansion_output:0\", shape=(1, 28, 28, 192), dtype=float32)\n",
      "Tensor(\"MobilenetV2/expanded_conv_5/depthwise_output:0\", shape=(1, 28, 28, 192), dtype=float32)\n",
      "Tensor(\"MobilenetV2/expanded_conv_5/output:0\", shape=(1, 28, 28, 32), dtype=float32)\n",
      "Tensor(\"MobilenetV2/expanded_conv_6/expansion_output:0\", shape=(1, 28, 28, 192), dtype=float32)\n",
      "Tensor(\"MobilenetV2/expanded_conv_6/depthwise_output:0\", shape=(1, 14, 14, 192), dtype=float32)\n",
      "Tensor(\"MobilenetV2/expanded_conv_6/output:0\", shape=(1, 14, 14, 64), dtype=float32)\n",
      "Tensor(\"MobilenetV2/expanded_conv_7/expansion_output:0\", shape=(1, 14, 14, 384), dtype=float32)\n",
      "Tensor(\"MobilenetV2/expanded_conv_7/depthwise_output:0\", shape=(1, 14, 14, 384), dtype=float32)\n",
      "Tensor(\"MobilenetV2/expanded_conv_7/output:0\", shape=(1, 14, 14, 64), dtype=float32)\n",
      "Tensor(\"MobilenetV2/expanded_conv_8/expansion_output:0\", shape=(1, 14, 14, 384), dtype=float32)\n",
      "Tensor(\"MobilenetV2/expanded_conv_8/depthwise_output:0\", shape=(1, 14, 14, 384), dtype=float32)\n",
      "Tensor(\"MobilenetV2/expanded_conv_8/output:0\", shape=(1, 14, 14, 64), dtype=float32)\n",
      "Tensor(\"MobilenetV2/expanded_conv_9/expansion_output:0\", shape=(1, 14, 14, 384), dtype=float32)\n",
      "Tensor(\"MobilenetV2/expanded_conv_9/depthwise_output:0\", shape=(1, 14, 14, 384), dtype=float32)\n",
      "Tensor(\"MobilenetV2/expanded_conv_9/output:0\", shape=(1, 14, 14, 64), dtype=float32)\n",
      "Tensor(\"MobilenetV2/expanded_conv_10/expansion_output:0\", shape=(1, 14, 14, 384), dtype=float32)\n",
      "Tensor(\"MobilenetV2/expanded_conv_10/depthwise_output:0\", shape=(1, 14, 14, 384), dtype=float32)\n",
      "Tensor(\"MobilenetV2/expanded_conv_10/output:0\", shape=(1, 14, 14, 96), dtype=float32)\n",
      "Tensor(\"MobilenetV2/expanded_conv_11/expansion_output:0\", shape=(1, 14, 14, 576), dtype=float32)\n",
      "Tensor(\"MobilenetV2/expanded_conv_11/depthwise_output:0\", shape=(1, 14, 14, 576), dtype=float32)\n",
      "Tensor(\"MobilenetV2/expanded_conv_11/output:0\", shape=(1, 14, 14, 96), dtype=float32)\n",
      "Tensor(\"MobilenetV2/expanded_conv_12/expansion_output:0\", shape=(1, 14, 14, 576), dtype=float32)\n",
      "Tensor(\"MobilenetV2/expanded_conv_12/depthwise_output:0\", shape=(1, 14, 14, 576), dtype=float32)\n",
      "Tensor(\"MobilenetV2/expanded_conv_12/output:0\", shape=(1, 14, 14, 96), dtype=float32)\n",
      "Tensor(\"MobilenetV2/expanded_conv_13/expansion_output:0\", shape=(1, 14, 14, 576), dtype=float32)\n",
      "Tensor(\"MobilenetV2/expanded_conv_13/depthwise_output:0\", shape=(1, 7, 7, 576), dtype=float32)\n",
      "Tensor(\"MobilenetV2/expanded_conv_13/output:0\", shape=(1, 7, 7, 160), dtype=float32)\n",
      "Tensor(\"MobilenetV2/expanded_conv_14/expansion_output:0\", shape=(1, 7, 7, 960), dtype=float32)\n",
      "Tensor(\"MobilenetV2/expanded_conv_14/depthwise_output:0\", shape=(1, 7, 7, 960), dtype=float32)\n",
      "Tensor(\"MobilenetV2/expanded_conv_14/output:0\", shape=(1, 7, 7, 160), dtype=float32)\n",
      "Tensor(\"MobilenetV2/expanded_conv_15/expansion_output:0\", shape=(1, 7, 7, 960), dtype=float32)\n",
      "Tensor(\"MobilenetV2/expanded_conv_15/depthwise_output:0\", shape=(1, 7, 7, 960), dtype=float32)\n",
      "Tensor(\"MobilenetV2/expanded_conv_15/output:0\", shape=(1, 7, 7, 160), dtype=float32)\n",
      "Tensor(\"MobilenetV2/expanded_conv_16/expansion_output:0\", shape=(1, 7, 7, 960), dtype=float32)\n",
      "Tensor(\"MobilenetV2/expanded_conv_16/depthwise_output:0\", shape=(1, 7, 7, 960), dtype=float32)\n",
      "Tensor(\"MobilenetV2/expanded_conv_16/output:0\", shape=(1, 7, 7, 320), dtype=float32)\n",
      "Tensor(\"MobilenetV2/Logits/AvgPool:0\", shape=(1, 1, 1, 1280), dtype=float32)\n",
      "Tensor(\"MobilenetV2/Logits/output:0\", shape=(1, 1001), dtype=float32)\n",
      "Tensor(\"MobilenetV2/Predictions/Reshape_1:0\", shape=(1, 1001), dtype=float32)\n"
     ]
    }
   ],
   "source": [
    "for layer in endpoints:\n",
    "    print(endpoints[layer])"
   ]
  },
  {
   "cell_type": "code",
   "execution_count": null,
   "metadata": {},
   "outputs": [],
   "source": []
  }
 ],
 "metadata": {
  "kernelspec": {
   "display_name": "Python 3",
   "language": "python",
   "name": "python3"
  },
  "language_info": {
   "codemirror_mode": {
    "name": "ipython",
    "version": 3
   },
   "file_extension": ".py",
   "mimetype": "text/x-python",
   "name": "python",
   "nbconvert_exporter": "python",
   "pygments_lexer": "ipython3",
   "version": "3.6.5"
  }
 },
 "nbformat": 4,
 "nbformat_minor": 2
}
